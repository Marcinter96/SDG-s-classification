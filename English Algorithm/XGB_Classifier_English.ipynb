{
 "cells": [
  {
   "cell_type": "code",
   "execution_count": null,
   "metadata": {},
   "outputs": [],
   "source": [
    "import re\n",
    "import pandas as pd\n",
    "import numpy as np\n",
    "import os\n",
    "#NLP libraries\n",
    "import sklearn\n",
    "# sklearn packages\n",
    "from sklearn import metrics\n",
    "from sklearn.feature_extraction.text import TfidfVectorizer, CountVectorizer\n",
    "from sklearn.externals import joblib\n",
    "from sklearn.metrics import confusion_matrix,classification_report,roc_curve\n",
    "from sklearn.metrics import auc,f1_score,roc_auc_score,precision_recall_curve,precision_score\n",
    "# xgboost packages\n",
    "import xgboost as xgb\n",
    "from xgboost import XGBClassifier\n",
    "\n",
    "# nltk packages\n",
    "import nltk\n",
    "from nltk import word_tokenize\n",
    "from nltk.stem import WordNetLemmatizer \n",
    "from nltk.corpus import stopwords\n",
    "from string import punctuation\n",
    "nltk.download('punkt')\n",
    "nltk.download('averaged_perceptron_tagger')\n",
    "nltk.download('stopwords')\n",
    "nltk.download('wordnet')\n",
    "# Libraries for plots\n",
    "import matplotlib\n",
    "import matplotlib.pyplot as plt\n",
    "import matplotlib.colors as mcolors\n",
    "import seaborn as sns\n",
    "sns.set()"
   ]
  },
  {
   "cell_type": "code",
   "execution_count": null,
   "metadata": {},
   "outputs": [],
   "source": [
    "# Getting all the required file for cleaning and predictions\n",
    "rep_file = \"Input/df_replacement.csv\"\n",
    "channel_file = \"Input/Channel_selected.csv\"\n",
    "stop_file = \"Input/df_stopwords.csv\"\n",
    "# Getting the wanted word for dictionary\n",
    "replacement = pd.read_csv(rep_file, encoding ='latin-1' )\n",
    "channel = pd.read_csv(channel_file, encoding ='latin-1' )\n",
    "stopwords_list = pd.read_csv(stop_file, encoding ='latin-1' ).drop(\"type\", axis = 1)\n",
    "frames = [replacement, channel]\n",
    "result = pd.concat(frames)\n",
    "result = result.dropna()\n",
    "dico = dict(zip(result.old, result.new))\n"
   ]
  },
  {
   "cell_type": "code",
   "execution_count": null,
   "metadata": {},
   "outputs": [],
   "source": [
    "stop_words1 =  stopwords.words('english') + list(stopwords_list[\"stopwords\"].values)\n",
    "# lemmatizer + tokenizer (+ stemming) class\n",
    "class LemmaTokenizer(object):\n",
    "    def __init__(self):\n",
    "        self.wnl = WordNetLemmatizer()\n",
    "        # we define (but not use) a stemming method, uncomment the last line in __call__ to get stemming tooo\n",
    "        self.stemmer = nltk.stem.SnowballStemmer('english') \n",
    "    def __call__(self, doc):\n",
    "        # pattern for numbers | words of length=2 | punctuations | words of length=1\n",
    "        pattern = re.compile(r'[0-9]+|\\b[\\w]{2,2}\\b|[%.,_`!\"&?\\')({~@;:#}+-]+|\\b[\\w]{1,1}\\b')\n",
    "        # tokenize document\n",
    "        doc_tok = word_tokenize(doc)\n",
    "        #filter out patterns from words\n",
    "        doc_tok = [x for x in doc_tok if x not in stop_words1]\n",
    "        doc_tok = [pattern.sub('', x) for x in doc_tok]\n",
    "        # get rid of anything with length=1\n",
    "        doc_tok = [x for x in doc_tok if len(x) > 2]\n",
    "        doc = [self.wnl.lemmatize(t) for t in doc_tok]\n",
    "        # uncomment if you want stemming as well\n",
    "        doc = [self.stemmer.stem(x) for x in doc]\n",
    "        return doc"
   ]
  },
  {
   "cell_type": "code",
   "execution_count": null,
   "metadata": {},
   "outputs": [],
   "source": [
    "def old_new_replace(s, dico):\n",
    "    \"\"\"\n",
    "   Replaces word in a string to the new wanted word in the dictionary\n",
    "    INPUT: -s (string): string we want to modify the given word\n",
    "           -dico (dict): list of word and their replace new word.\n",
    "    OUTPUT: - (string): \n",
    "    \"\"\"\n",
    "    new_s = s\n",
    "    for old, new in dico.items():\n",
    "        new_s = new_s.replace(old, new)\n",
    "    return new_s"
   ]
  },
  {
   "cell_type": "code",
   "execution_count": null,
   "metadata": {},
   "outputs": [],
   "source": [
    "#Getting the final trainset, \n",
    "train_file = \"Input/trainset.csv\"\n",
    "\n",
    "train = pd.read_csv(train_file, encoding = \"latin-1\")\n",
    "train[\"new text\"] = train[\"Description\"].apply(lambda x: old_new_replace(x,dico))"
   ]
  },
  {
   "cell_type": "code",
   "execution_count": null,
   "metadata": {},
   "outputs": [],
   "source": [
    "# CountVectorizer instantiation with stop words, setting to count words of 1-grams and do not filter words based on their frequency\n",
    "count_vec = CountVectorizer(lowercase=True,min_df=1,analyzer='word',tokenizer = LemmaTokenizer(), ngram_range=(1,2))#tokenizer = LemmaTokenizer()\n",
    "vect_word = TfidfVectorizer(lowercase=True,min_df=1,analyzer='word',tokenizer = LemmaTokenizer(),ngram_range=(1,2))#tokenizer = LemmaTokenizer()\n",
    "fit = train[\"new text\"]\n",
    "feat = vect_word.fit_transform(fit.values)\n",
    "feat_name = vect_word.get_feature_names()\n"
   ]
  },
  {
   "cell_type": "code",
   "execution_count": null,
   "metadata": {},
   "outputs": [],
   "source": [
    "des = [\"No Poverty\", \"Zero Hunger\", \"Good Health and well-being\", 'Quality Education', \"Gender Equality\",\n",
    "                   \"Clean Water and Sanitation\", \"Affordable and Clean Energy\", 'Decent Work and Economic growth',\n",
    "                   \"Industry, Innovation and Infrastructure\", \"Reduced Inequality\", \"Sustainable cities and communities\",\n",
    "                   \"Responsible Consumption and Production\", 'Climate Action', 'Life below water',\"Life on land\",\"Peace justice and  strong Institutions\",\"Partnernship for the goals\"]"
   ]
  },
  {
   "cell_type": "code",
   "execution_count": null,
   "metadata": {},
   "outputs": [],
   "source": [
    " color = [\"#e5243b\", \"#dda63a\", \"#4c9f38\", \"#c5192d\", \"#ff3a21\", \"#26bde2\", \"#fcc30b\", \"#a21942\", \n",
    "              \"#fd6925\", \"#dd1367\", \"#fd9d24\", \"#bf8b2e\", \"#3f7e44\", \"#0a97d9\", \"#56c02b\", \"#00689d\",\n",
    "              \"#19486a\"]"
   ]
  },
  {
   "cell_type": "code",
   "execution_count": null,
   "metadata": {},
   "outputs": [],
   "source": [
    "def single_pred(path,name,column):\n",
    "    \"\"\"\n",
    "    Takes a given csv documents and output the predicted probability for each entries. Then given our predicted probability\n",
    "    and chosen tresholds, functions creates a barplot giving the percentage of mention for each SDG in the given document.\n",
    "    INPUT: -path (string): path that contain the waned document.\n",
    "           -name (string): name of the csv document to be used for predictions.\n",
    "           -column(string): name of the column you want to use for predictions\n",
    "    OUTPUT: - (csv file): file containing the predicted probability for each class\n",
    "            - (jpg): jpg file showing the SDG's mention (in %) for the whole document.\n",
    "    \"\"\"\n",
    "    target_col = [\"SDG{}\".format(i) for i in range(1,18)]\n",
    "    #treshold_file =\"Saved_Fit/Treshold.csv\"\n",
    "    treshold_file =\"Saved_Fit/Treshold.csv\"\n",
    "    \n",
    "    treshold = pd.read_csv(treshold_file)\n",
    "    tres = list(treshold[\"Tresholds\"].values)\n",
    "    # For AFD documents penalise more the SDG17 and SDG8\n",
    "    tres[16] = 0.5\n",
    "    tres[7] = 0.5\n",
    "    \n",
    "    file_name = name.strip(\"Table_\").strip(\".pdf.csv\")\n",
    "    test = pd.read_csv(os.path.join(path, name), encoding ='utf8' ).rename(columns={column:\"text\"})\n",
    "    #display(new_test)\n",
    "    for col in ['text']:\n",
    "        test[col] = test[col].str.lower()\n",
    "    test[\"new text\"] = test[\"text\"].apply(lambda x: old_new_replace(x,dico))\n",
    "    tr_test = test[\"new text\"]\n",
    "    mat_pred = vect_word.transform(tr_test.values)\n",
    "    #test_char = vect_char.transform(test[\"text\"])\n",
    "    #mat_pred =  sparse.hstack([test_vect])\n",
    "    test_proba = pd.DataFrame()\n",
    "    test_proba[\"Index\"] = test.text.values\n",
    "    for j,col in enumerate(target_col):\n",
    "        # load model from file\n",
    "        fit_name = 'Saved_Fit/Model_Fit_{}.joblib'.format(col)\n",
    "        loaded_model = joblib.load(fit_name)\n",
    "        # make predictions for test data\n",
    "        test_proba[col] = loaded_model.predict_proba(mat_pred)[:,1]\n",
    "    \n",
    "    pred_SDG = pd.DataFrame()\n",
    "    pred_SDG[\"Index\"] = test_proba[\"Index\"]\n",
    "    for l in range(1,18):\n",
    "        pred_SDG[\"SDG{}\".format(l)] = 0\n",
    "    for j in range(1,18):\n",
    "        for i in range(len(test_proba)):\n",
    "            if test_proba[\"SDG{}\".format(j)][i] > tres[j-1]:\n",
    "                pred_SDG[\"SDG{}\".format(j)][i]  = 1\n",
    "            else:\n",
    "                pred_SDG[\"SDG{}\".format(j)][i] = 0\n",
    "    pred_SDG.to_csv(\"Predictions_{}.csv\".format(file_name))\n",
    "    pred_SDG = pred_SDG.drop(\"Index\", axis =1)\n",
    "    d = 0\n",
    "    for i in range(len(pred_SDG)):\n",
    "        if np.isin(1,pred_SDG.iloc[i].values) == True:\n",
    "            d += 1\n",
    "    count = (pred_SDG.sum()/d)*100\n",
    "\n",
    "    plt.figure(figsize=(18,10))\n",
    "    plt.bar(des,count,color = color, label=\"Presence of SDG's\")\n",
    "    plt.xticks(rotation = 80)\n",
    "    plt.title(\"Count of SDG's for {}\".format(file_name))\n",
    "    plt.legend()\n",
    "    plt.tight_layout()\n",
    "    plt.savefig(\"SDG_{}.png\".format(file_name), bbox_inches='tight')\n",
    "    plt.show()\n",
    "\n"
   ]
  },
  {
   "cell_type": "code",
   "execution_count": null,
   "metadata": {},
   "outputs": [],
   "source": [
    "path = input(\"Step 1: Insert Path Name :\")\n",
    "file = input(\"Step 2: Insert File Name :\")\n",
    "column = input(\"Step 3: Insert column name that is predicted :\")"
   ]
  },
  {
   "cell_type": "code",
   "execution_count": null,
   "metadata": {},
   "outputs": [],
   "source": [
    "single_pred(path,file,column)"
   ]
  },
  {
   "cell_type": "code",
   "execution_count": null,
   "metadata": {},
   "outputs": [],
   "source": []
  }
 ],
 "metadata": {
  "kernelspec": {
   "display_name": "Python 3",
   "language": "python",
   "name": "python3"
  },
  "language_info": {
   "codemirror_mode": {
    "name": "ipython",
    "version": 3
   },
   "file_extension": ".py",
   "mimetype": "text/x-python",
   "name": "python",
   "nbconvert_exporter": "python",
   "pygments_lexer": "ipython3",
   "version": "3.7.4"
  }
 },
 "nbformat": 4,
 "nbformat_minor": 4
}
